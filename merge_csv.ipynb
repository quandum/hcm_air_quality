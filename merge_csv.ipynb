{
 "cells": [
  {
   "cell_type": "code",
   "execution_count": 15,
   "metadata": {},
   "outputs": [],
   "source": [
    "import os, sys, platform\n",
    "import csv,json\n",
    "from pprint import pprint\n",
    "import datetime,time,dateparser"
   ]
  },
  {
   "cell_type": "code",
   "execution_count": 12,
   "metadata": {},
   "outputs": [],
   "source": [
    "#CURRENT_WORKING_DIRECTORY = os.path.dirname(os.path.abspath(__file__))\n",
    "CURRENT_WORKING_DIRECTORY = r'd:\\HCMUS\\Data Engineer\\project'\n",
    "DATA_DIRECTORY = os.path.join(CURRENT_WORKING_DIRECTORY,'data')\n"
   ]
  },
  {
   "cell_type": "code",
   "execution_count": 14,
   "metadata": {},
   "outputs": [
    {
     "name": "stdout",
     "output_type": "stream",
     "text": [
      "[{'location': 'Vo Thi Sau High School',\n",
      "  'url': 'https://www.iqair.com/vi/vietnam/ho-chi-minh-city/vo-thi-sau-high-school',\n",
      "  'vn_no_accent': 'Vo Thi Sau High School'},\n",
      " {'location': 'Mam non Hai Au Bay',\n",
      "  'url': 'https://www.iqair.com/vi/vietnam/ho-chi-minh-city/mam-non-hai-au-bay',\n",
      "  'vn_no_accent': 'Mam non Hai Au Bay'},\n",
      " {'location': 'IQAir Showroom - Saigon Pearl - Outdoor Air Quality Monitoring '\n",
      "              'Station',\n",
      "  'url': 'https://www.iqair.com/vi/vietnam/ho-chi-minh-city/iqair-showroom-saigon-pearl-outdoor-air-quality-monitoring-station',\n",
      "  'vn_no_accent': 'IQAir Showroom - Saigon Pearl - Outdoor Air Quality '\n",
      "                  'Monitoring Station'},\n",
      " {'location': 'US Consulate in Ho Chi Minh City',\n",
      "  'url': 'https://www.iqair.com/vi/vietnam/ho-chi-minh-city/us-consulate-in-ho-chi-minh-city',\n",
      "  'vn_no_accent': 'US Consulate in Ho Chi Minh City'},\n",
      " {'location': 'Ap Xuan Thoi Dong 2',\n",
      "  'url': 'https://www.iqair.com/vi/vietnam/ho-chi-minh-city/ap-xuan-thoi-dong-2',\n",
      "  'vn_no_accent': 'Ap Xuan Thoi Dong 2'},\n",
      " {'location': 'SSIS OUTDOOR 3',\n",
      "  'url': 'https://www.iqair.com/vi/vietnam/ho-chi-minh-city/ssis-outdoor-3',\n",
      "  'vn_no_accent': 'SSIS OUTDOOR 3'},\n",
      " {'location': 'Saigon South International School',\n",
      "  'url': 'https://www.iqair.com/vi/vietnam/ho-chi-minh-city/saigon-south-international-school',\n",
      "  'vn_no_accent': 'Saigon South International School'},\n",
      " {'location': 'SimCity Premier District 9',\n",
      "  'url': 'https://www.iqair.com/vi/vietnam/ho-chi-minh-city/simcity-premier-district-9',\n",
      "  'vn_no_accent': 'SimCity Premier District 9'},\n",
      " {'location': 'Diamond Island',\n",
      "  'url': 'https://www.iqair.com/vi/vietnam/ho-chi-minh-city/diamond-island',\n",
      "  'vn_no_accent': 'Diamond Island'},\n",
      " {'location': 'VSTARSCHOOL',\n",
      "  'url': 'https://www.iqair.com/vi/vietnam/ho-chi-minh-city/vstarschool',\n",
      "  'vn_no_accent': 'VSTARSCHOOL'}]\n"
     ]
    }
   ],
   "source": [
    "f=open(os.path.join(DATA_DIRECTORY,'locations_link.csv'),'r',encoding='utf8')\n",
    "reader=csv.DictReader(f)\n",
    "location_data=[dict(x) for x in reader]\n",
    "f.close()\n",
    "pprint(location_data)"
   ]
  },
  {
   "cell_type": "code",
   "execution_count": 19,
   "metadata": {},
   "outputs": [],
   "source": [
    "hourly_data_csv=open(os.path.join(DATA_DIRECTORY,'hourly_data.csv'),'w',encoding='utf8')\n",
    "writer=csv.DictWriter(hourly_data_csv,fieldnames=['station','timestamp','aqi','rating_aqi','pm2.5','rating_pm2.5'])\n",
    "writer.writeheader()\n",
    "for location in location_data:\n",
    "    station=location['location']\n",
    "    station_directory=os.path.join(DATA_DIRECTORY,location['vn_no_accent'])\n",
    "    aqi=[dict(x) for  x in csv.DictReader(open(os.path.join(station_directory,'aqihourly.csv'),'r'))]\n",
    "    pm25=[dict(x) for  x in csv.DictReader(open(os.path.join(station_directory,'pm2.5hourly.csv'),'r'))]\n",
    "    data=[]\n",
    "    for rec in aqi:\n",
    "        data.append({\n",
    "            'station':station,\n",
    "            'timestamp':rec['timestamp'],\n",
    "            'aqi':rec['value'],\n",
    "            'rating_aqi':rec['rating'],\n",
    "            'pm2.5':'',\n",
    "            'rating_pm2.5':''\n",
    "        })\n",
    "    for rec in pm25:\n",
    "        ts=rec['timestamp']\n",
    "        existed=False\n",
    "        for i in range(len(data)):\n",
    "            if (data[i]['timestamp']==ts):\n",
    "                existed=True\n",
    "                data[i]['pm2.5']=rec['value']\n",
    "                data[i]['rating_pm2.5']=rec['rating']\n",
    "        if (existed==False):\n",
    "            data.append({\n",
    "                'station':station,\n",
    "                'timestamp':rec['timestamp'],\n",
    "                'aqi':'',\n",
    "                'rating_aqi':'',\n",
    "                'pm2.5':rec['value'],\n",
    "                'rating_pm2.5':rec['rating']\n",
    "            })\n",
    "    for row in data:\n",
    "        row['timestamp']=row['timestamp'].replace(',',' 2021,')\n",
    "        writer.writerow(row)\n",
    "        \n",
    "hourly_data_csv.close() "
   ]
  },
  {
   "cell_type": "code",
   "execution_count": 21,
   "metadata": {},
   "outputs": [],
   "source": [
    "daily_data_csv=open(os.path.join(DATA_DIRECTORY,'daily_data.csv'),'w',encoding='utf8')\n",
    "writer=csv.DictWriter(daily_data_csv,fieldnames=['station','date','aqi','rating_aqi','pm2.5','rating_pm2.5'])\n",
    "writer.writeheader()\n",
    "for location in location_data:\n",
    "    station=location['location']\n",
    "    station_directory=os.path.join(DATA_DIRECTORY,location['vn_no_accent'])\n",
    "    aqi=[dict(x) for  x in csv.DictReader(open(os.path.join(station_directory,'aqidaily.csv'),'r'))]\n",
    "    pm25=[dict(x) for  x in csv.DictReader(open(os.path.join(station_directory,'pm2.5daily.csv'),'r'))]\n",
    "    data=[]\n",
    "    for rec in aqi:\n",
    "        data.append({\n",
    "            'station':station,\n",
    "            'date':rec['timestamp'],\n",
    "            'aqi':rec['value'],\n",
    "            'rating_aqi':rec['rating'],\n",
    "            'pm2.5':'',\n",
    "            'rating_pm2.5':''\n",
    "        })\n",
    "    for rec in pm25:\n",
    "        ts=rec['timestamp']\n",
    "        existed=False\n",
    "        for i in range(len(data)):\n",
    "            if (data[i]['date']==ts):\n",
    "                existed=True\n",
    "                data[i]['pm2.5']=rec['value']\n",
    "                data[i]['rating_pm2.5']=rec['rating']\n",
    "        if (existed==False):\n",
    "            data.append({\n",
    "                'station':station,\n",
    "                'timestamp':rec['timestamp'],\n",
    "                'aqi':'',\n",
    "                'rating_aqi':'',\n",
    "                'pm2.5':rec['value'],\n",
    "                'rating_pm2.5':rec['rating']\n",
    "            })\n",
    "    for row in data:\n",
    "        row['date']=row['date']+\" 2021\"\n",
    "        writer.writerow(row)\n",
    "        \n",
    "daily_data_csv.close() "
   ]
  },
  {
   "cell_type": "code",
   "execution_count": null,
   "metadata": {},
   "outputs": [],
   "source": []
  }
 ],
 "metadata": {
  "kernelspec": {
   "display_name": "Python 3 (ipykernel)",
   "language": "python",
   "name": "python3"
  },
  "language_info": {
   "codemirror_mode": {
    "name": "ipython",
    "version": 3
   },
   "file_extension": ".py",
   "mimetype": "text/x-python",
   "name": "python",
   "nbconvert_exporter": "python",
   "pygments_lexer": "ipython3",
   "version": "3.7.8"
  }
 },
 "nbformat": 4,
 "nbformat_minor": 4
}
